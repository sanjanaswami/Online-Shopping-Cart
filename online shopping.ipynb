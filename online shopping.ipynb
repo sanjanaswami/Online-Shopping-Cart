{
 "cells": [
  {
   "cell_type": "code",
   "execution_count": 48,
   "id": "ee28b87d-f31d-4153-a3a1-36b2006be686",
   "metadata": {},
   "outputs": [
    {
     "name": "stdout",
     "output_type": "stream",
     "text": [
      "\n",
      "---Online shopping cart ---\n",
      "1. Show products\n",
      "2. Add to Cart\n",
      "3. Remove from Cart\n",
      "4. View Cart\n",
      "5. Checkout\n",
      "6. Exit\n"
     ]
    },
    {
     "name": "stdin",
     "output_type": "stream",
     "text": [
      "Enter your choice:  1\n"
     ]
    },
    {
     "name": "stdout",
     "output_type": "stream",
     "text": [
      "\n",
      "Available product:\n",
      "ID\tName\t\tPrice\tStock\n",
      "1\tLaptop\t\t50000\t5\n",
      "2\tPhone\t\t20000\t10\n",
      "3\tHedph\t\t1500\t15\n",
      "4\tCharger\t\t700\t20\n",
      "\n",
      "---Online shopping cart ---\n",
      "1. Show products\n",
      "2. Add to Cart\n",
      "3. Remove from Cart\n",
      "4. View Cart\n",
      "5. Checkout\n",
      "6. Exit\n"
     ]
    },
    {
     "name": "stdin",
     "output_type": "stream",
     "text": [
      "Enter your choice:  2\n"
     ]
    },
    {
     "name": "stdout",
     "output_type": "stream",
     "text": [
      "\n",
      "Available product:\n",
      "ID\tName\t\tPrice\tStock\n",
      "1\tLaptop\t\t50000\t5\n",
      "2\tPhone\t\t20000\t10\n",
      "3\tHedph\t\t1500\t15\n",
      "4\tCharger\t\t700\t20\n"
     ]
    },
    {
     "name": "stdin",
     "output_type": "stream",
     "text": [
      "Enter product ID to add:  3\n",
      "Enter quantity:  4\n"
     ]
    },
    {
     "name": "stdout",
     "output_type": "stream",
     "text": [
      "Hedph added to cart.\n",
      "\n",
      "---Online shopping cart ---\n",
      "1. Show products\n",
      "2. Add to Cart\n",
      "3. Remove from Cart\n",
      "4. View Cart\n",
      "5. Checkout\n",
      "6. Exit\n"
     ]
    },
    {
     "name": "stdin",
     "output_type": "stream",
     "text": [
      "Enter your choice:  5\n"
     ]
    },
    {
     "name": "stdout",
     "output_type": "stream",
     "text": [
      "\n",
      "--- Bill ---\n",
      "Totl Amout to pay: 6000\n",
      "Receipt  saved as 'receipt.tax '\n",
      "\n",
      "---Online shopping cart ---\n",
      "1. Show products\n",
      "2. Add to Cart\n",
      "3. Remove from Cart\n",
      "4. View Cart\n",
      "5. Checkout\n",
      "6. Exit\n"
     ]
    },
    {
     "name": "stdin",
     "output_type": "stream",
     "text": [
      "Enter your choice:  6\n"
     ]
    },
    {
     "name": "stdout",
     "output_type": "stream",
     "text": [
      "Thank you for shopping! Goodbye\n"
     ]
    }
   ],
   "source": [
    "# online shopping cart project\n",
    "#product catalog (dictionary with product id as key)\n",
    "products = {\n",
    "    1:{\"name\":\"Laptop\", \"price\": 50000, \"stock\":5},\n",
    "    2:{\"name\":\"Phone\", \"price\": 20000, \"stock\":10},\n",
    "    3:{\"name\":\"Hedph\", \"price\":1500, \"stock\":15},\n",
    "    4:{\"name\":\"Charger\",\"price\":700, \"stock\":20}\n",
    "}\n",
    "\n",
    "#Empty cart dictionary\n",
    "cart = {}\n",
    "\n",
    "# Function to display available product\n",
    "def show_products():\n",
    "    print(\"\\nAvailable product:\")\n",
    "    print(\"ID\\tName\\t\\tPrice\\tStock\")\n",
    "    for pid, details in product.items():\n",
    "        print(f\"{pid}\\t{details['name']}\\t\\t{details['price']}\\t{details['stock']}\")\n",
    "\n",
    "\n",
    "\n",
    "\n",
    "# Function to add product to cart\n",
    "def add_to_cart():\n",
    "    show_product()\n",
    "    try:\n",
    "        pid = int(input(\"Enter product ID to add: \"))\n",
    "        if pid not in product:\n",
    "            print(\"Invalid product ID!\")\n",
    "            return\n",
    "        qty = int(input(\"Enter quantity: \"))\n",
    "        if qty > product[pid][\"stock\"]:\n",
    "           print(\"sorry, not enough stock!\")\n",
    "           return\n",
    "        if pid in cart:\n",
    "            cart[pid] += qty\n",
    "        else:\n",
    "           cart[pid] = qty\n",
    "        products[pid][\"stock\"] -= qty\n",
    "        print(f\"{product[pid]['name']} added to cart.\")\n",
    "    except ValueError:\n",
    "       print(\"Invalid input!\")\n",
    "\n",
    "\n",
    "# Function to remove product from cart\n",
    "def remove_from_cart():\n",
    "    if not cart:\n",
    "        print(\"cart is empty!\")\n",
    "        return\n",
    "    print(\"\\nItems in vart:\")\n",
    "    for  pid, qty in caer.item():\n",
    "        print(f\"{pid} - {product[pid]['name']} :  {qty}\")\n",
    "    try:\n",
    "        pid = int(input(\"Enter product ID to remov e: \"))\n",
    "        if pid not in cart:\n",
    "            print(\"product not in cart!\")\n",
    "            return\n",
    "        qty = int(input(\"Enter quantity to remove: \"))\n",
    "        if qty >= cart[pid]:\n",
    "            products[pld][\"stock\"] += cart[pid]\n",
    "            del cart[pid]\n",
    "        else:\n",
    "            cart[pid] -= qty\n",
    "            products[pid][\"stock\"] += qty\n",
    "        print(\"Item update in cart.\")\n",
    "    except ValueError:\n",
    "        print(\"Invalid input!\")\n",
    "# function to view cart and total\n",
    "def view_cart():\n",
    "    if not cart:\n",
    "        print(\"Cart is empty!\")\n",
    "        return\n",
    "    total = 0\n",
    "    print(\"\\nYour Cart:\")\n",
    "    print(\"Name\\tQuqntity\\tPrice\")\n",
    "    for pid, qty in cart.item():\n",
    "        name = products[pid][\"name\"]\n",
    "        price = products[pid][\"price\"] * qty\n",
    "        total += price\n",
    "        print(f\"{name}\\t{qty}\\t\\t{price}\")\n",
    "    print(f\"Total Amount: {total}\")\n",
    "\n",
    "# Function to checkout and save recipt\n",
    "def checkout():\n",
    "    if not cart:\n",
    "        print(\"Cart is empty!\")\n",
    "        return\n",
    "    total = 0\n",
    "    print(\"\\n--- Bill ---\")\n",
    "    with open(\"receipt.txt\", \"w\") as f:\n",
    "        f.write(\"---- Receipt ----\\n\")\n",
    "        f.write(\"Name\\tQuatity\\tPrice\\n\")\n",
    "        for pid, qty in cart.items():\n",
    "            name = product[pid][\"name\"]\n",
    "            price = products[pid][\"price\"] * qty\n",
    "            total += price\n",
    "            f.write(f\"{name}\\t{qty}\\t{price}\\n\")\n",
    "        f.write(f\"Total Amount: {total}\\n\")\n",
    "        f.write(\"--------------------\\n\")\n",
    "    print(f\"Totl Amout to pay: {total}\")\n",
    "    print(\"Receipt  saved as 'receipt.tax '\")\n",
    "    cart.clear() #Empty the cart after checkout\n",
    "\n",
    "# Main menu loop\n",
    "while True:\n",
    "    print(\"\\n---Online shopping cart ---\")\n",
    "    print(\"1. Show products\")\n",
    "    print(\"2. Add to Cart\")\n",
    "    print(\"3. Remove from Cart\")\n",
    "    print(\"4. View Cart\")\n",
    "    print(\"5. Checkout\")\n",
    "    print(\"6. Exit\")\n",
    "\n",
    "    try:\n",
    "        choice = int(input(\"Enter your choice: \"))\n",
    "        if choice == 1:\n",
    "            show_products()\n",
    "        elif choice == 2:\n",
    "            add_to_cart()\n",
    "        elif choice == 3:\n",
    "            remove_from_cart()\n",
    "        elif choice == 4:\n",
    "            view_cart()\n",
    "        elif choice == 5:\n",
    "            checkout()\n",
    "        elif choice == 6:\n",
    "            print(\"Thank you for shopping! Goodbye\")\n",
    "            break\n",
    "        else:\n",
    "            print(\"Invalid choice!\")\n",
    "    except ValueError:\n",
    "        print(\"Please enter a valid number!\")"
   ]
  },
  {
   "cell_type": "code",
   "execution_count": null,
   "id": "133bc72a-08ff-4b0a-a749-06198af436a1",
   "metadata": {},
   "outputs": [],
   "source": []
  },
  {
   "cell_type": "code",
   "execution_count": null,
   "id": "a4096b2b-bb7d-4831-b1f7-fded8c112bc1",
   "metadata": {},
   "outputs": [],
   "source": []
  },
  {
   "cell_type": "code",
   "execution_count": null,
   "id": "cf3c52b9-f83f-4d81-9021-5e9969716c3d",
   "metadata": {},
   "outputs": [],
   "source": []
  },
  {
   "cell_type": "code",
   "execution_count": null,
   "id": "da4edf7c-fbc4-434a-931d-ec1d432043cb",
   "metadata": {},
   "outputs": [],
   "source": []
  },
  {
   "cell_type": "code",
   "execution_count": null,
   "id": "13b7caa2-4679-4428-87f3-ca05ff837a53",
   "metadata": {},
   "outputs": [],
   "source": []
  },
  {
   "cell_type": "code",
   "execution_count": null,
   "id": "e650ca2c-02e7-4b83-b889-be3b972145b6",
   "metadata": {},
   "outputs": [],
   "source": []
  }
 ],
 "metadata": {
  "kernelspec": {
   "display_name": "Python 3 (ipykernel)",
   "language": "python",
   "name": "python3"
  },
  "language_info": {
   "codemirror_mode": {
    "name": "ipython",
    "version": 3
   },
   "file_extension": ".py",
   "mimetype": "text/x-python",
   "name": "python",
   "nbconvert_exporter": "python",
   "pygments_lexer": "ipython3",
   "version": "3.13.5"
  }
 },
 "nbformat": 4,
 "nbformat_minor": 5
}
